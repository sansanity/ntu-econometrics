{
 "cells": [
  {
   "cell_type": "code",
   "execution_count": 12,
   "metadata": {},
   "outputs": [],
   "source": [
    "import pandas as pd \n",
    "import sklearn\n",
    "import matplotlib.pyplot as plt\n",
    "import statsmodels.api as sm\n",
    "import numpy as np\n",
    "from scipy.stats import ttest_1samp\n",
    "import missingno\n",
    "import statsmodels.formula.api as smf"
   ]
  },
  {
   "cell_type": "markdown",
   "metadata": {},
   "source": [
    "# Description of data set\n",
    "\n",
    "rsp500 - Monthly return on S&P 500 at an annual rate, including price cahnges and dividends\n",
    "\n",
    "i3 - Return on three month T bill\n",
    "\n",
    "pcip - Percentage in industrial production"
   ]
  },
  {
   "cell_type": "markdown",
   "metadata": {},
   "source": [
    "# Importing the data"
   ]
  },
  {
   "cell_type": "code",
   "execution_count": 5,
   "metadata": {},
   "outputs": [
    {
     "name": "stdout",
     "output_type": "stream",
     "text": [
      "          date  sp500  divyld    i3    ip       pcsp     rsp500      pcip  \\\n",
      "0  1947.010010  15.21    4.49  0.38  22.4        NaN        NaN       NaN   \n",
      "1  1947.020020  15.80    4.38  0.38  22.5  46.548332  50.928333  5.357163   \n",
      "2  1947.030029  15.16    4.61  0.38  22.6 -48.607620 -43.997620  5.333354   \n",
      "3  1947.040039  14.60    4.75  0.38  22.5 -44.327137 -39.577137 -5.309754   \n",
      "4  1947.050049  14.34    5.05  0.38  22.6 -21.369881 -16.319881  5.333354   \n",
      "\n",
      "   ci3  ci3_1  ci3_2    pcip_1    pcip_2    pcip_3     pcsp_1     pcsp_2  \\\n",
      "0  NaN    NaN    NaN       NaN       NaN       NaN        NaN        NaN   \n",
      "1  0.0    NaN    NaN       NaN       NaN       NaN        NaN        NaN   \n",
      "2  0.0    0.0    NaN  5.357163       NaN       NaN  46.548332        NaN   \n",
      "3  0.0    0.0    0.0  5.333354  5.357163       NaN -48.607620  46.548332   \n",
      "4  0.0    0.0    0.0 -5.309754  5.333354  5.357163 -44.327137 -48.607620   \n",
      "\n",
      "      pcsp_3      month  \n",
      "0        NaN 1947-01-01  \n",
      "1        NaN 1947-02-01  \n",
      "2        NaN 1947-03-01  \n",
      "3        NaN 1947-04-01  \n",
      "4  46.548332 1947-05-01  \n",
      "(558, 18)\n"
     ]
    }
   ],
   "source": [
    "df = pd.read_stata(\"VOLAT(1).dta\")\n",
    "print(df.head())\n",
    "print(df.shape)"
   ]
  },
  {
   "cell_type": "code",
   "execution_count": 6,
   "metadata": {},
   "outputs": [
    {
     "data": {
      "text/html": [
       "<div>\n",
       "<style scoped>\n",
       "    .dataframe tbody tr th:only-of-type {\n",
       "        vertical-align: middle;\n",
       "    }\n",
       "\n",
       "    .dataframe tbody tr th {\n",
       "        vertical-align: top;\n",
       "    }\n",
       "\n",
       "    .dataframe thead th {\n",
       "        text-align: right;\n",
       "    }\n",
       "</style>\n",
       "<table border=\"1\" class=\"dataframe\">\n",
       "  <thead>\n",
       "    <tr style=\"text-align: right;\">\n",
       "      <th></th>\n",
       "      <th>date</th>\n",
       "      <th>sp500</th>\n",
       "      <th>divyld</th>\n",
       "      <th>i3</th>\n",
       "      <th>ip</th>\n",
       "      <th>pcsp</th>\n",
       "      <th>rsp500</th>\n",
       "      <th>pcip</th>\n",
       "      <th>ci3</th>\n",
       "      <th>ci3_1</th>\n",
       "      <th>ci3_2</th>\n",
       "      <th>pcip_1</th>\n",
       "      <th>pcip_2</th>\n",
       "      <th>pcip_3</th>\n",
       "      <th>pcsp_1</th>\n",
       "      <th>pcsp_2</th>\n",
       "      <th>pcsp_3</th>\n",
       "    </tr>\n",
       "  </thead>\n",
       "  <tbody>\n",
       "    <tr>\n",
       "      <td>count</td>\n",
       "      <td>558.000000</td>\n",
       "      <td>558.000000</td>\n",
       "      <td>558.000000</td>\n",
       "      <td>558.000000</td>\n",
       "      <td>558.000000</td>\n",
       "      <td>557.000000</td>\n",
       "      <td>557.000000</td>\n",
       "      <td>557.000000</td>\n",
       "      <td>557.000000</td>\n",
       "      <td>556.000000</td>\n",
       "      <td>555.000000</td>\n",
       "      <td>556.000000</td>\n",
       "      <td>555.000000</td>\n",
       "      <td>554.000000</td>\n",
       "      <td>556.000000</td>\n",
       "      <td>555.000000</td>\n",
       "      <td>554.000000</td>\n",
       "    </tr>\n",
       "    <tr>\n",
       "      <td>mean</td>\n",
       "      <td>1969.816528</td>\n",
       "      <td>118.273407</td>\n",
       "      <td>4.154139</td>\n",
       "      <td>5.004945</td>\n",
       "      <td>62.609501</td>\n",
       "      <td>7.990778</td>\n",
       "      <td>12.144324</td>\n",
       "      <td>3.507907</td>\n",
       "      <td>0.004883</td>\n",
       "      <td>0.004640</td>\n",
       "      <td>0.004523</td>\n",
       "      <td>3.518129</td>\n",
       "      <td>3.526427</td>\n",
       "      <td>3.526890</td>\n",
       "      <td>7.991529</td>\n",
       "      <td>7.995339</td>\n",
       "      <td>8.043839</td>\n",
       "    </tr>\n",
       "    <tr>\n",
       "      <td>std</td>\n",
       "      <td>13.436476</td>\n",
       "      <td>103.437805</td>\n",
       "      <td>1.102117</td>\n",
       "      <td>3.171102</td>\n",
       "      <td>27.408918</td>\n",
       "      <td>40.326008</td>\n",
       "      <td>40.297913</td>\n",
       "      <td>13.237979</td>\n",
       "      <td>0.491545</td>\n",
       "      <td>0.491954</td>\n",
       "      <td>0.492390</td>\n",
       "      <td>13.247705</td>\n",
       "      <td>13.258218</td>\n",
       "      <td>13.270181</td>\n",
       "      <td>40.362339</td>\n",
       "      <td>40.398628</td>\n",
       "      <td>40.418968</td>\n",
       "    </tr>\n",
       "    <tr>\n",
       "      <td>min</td>\n",
       "      <td>1947.010010</td>\n",
       "      <td>13.970000</td>\n",
       "      <td>2.690000</td>\n",
       "      <td>0.380000</td>\n",
       "      <td>21.600000</td>\n",
       "      <td>-150.556854</td>\n",
       "      <td>-146.896851</td>\n",
       "      <td>-50.632912</td>\n",
       "      <td>-4.850000</td>\n",
       "      <td>-4.850000</td>\n",
       "      <td>-4.850000</td>\n",
       "      <td>-50.632912</td>\n",
       "      <td>-50.632912</td>\n",
       "      <td>-50.632912</td>\n",
       "      <td>-150.556854</td>\n",
       "      <td>-150.556854</td>\n",
       "      <td>-150.556854</td>\n",
       "    </tr>\n",
       "    <tr>\n",
       "      <td>25%</td>\n",
       "      <td>1958.082458</td>\n",
       "      <td>48.824999</td>\n",
       "      <td>3.190000</td>\n",
       "      <td>2.610000</td>\n",
       "      <td>36.000000</td>\n",
       "      <td>-15.125109</td>\n",
       "      <td>-11.057409</td>\n",
       "      <td>-3.719046</td>\n",
       "      <td>-0.120000</td>\n",
       "      <td>-0.120000</td>\n",
       "      <td>-0.120000</td>\n",
       "      <td>-3.734170</td>\n",
       "      <td>-3.749294</td>\n",
       "      <td>-3.764418</td>\n",
       "      <td>-15.186691</td>\n",
       "      <td>-15.248274</td>\n",
       "      <td>-15.102324</td>\n",
       "    </tr>\n",
       "    <tr>\n",
       "      <td>50%</td>\n",
       "      <td>1970.035034</td>\n",
       "      <td>92.275002</td>\n",
       "      <td>3.815000</td>\n",
       "      <td>4.610000</td>\n",
       "      <td>62.000000</td>\n",
       "      <td>10.090999</td>\n",
       "      <td>14.596664</td>\n",
       "      <td>4.040342</td>\n",
       "      <td>0.010000</td>\n",
       "      <td>0.010000</td>\n",
       "      <td>0.010000</td>\n",
       "      <td>4.047206</td>\n",
       "      <td>4.054070</td>\n",
       "      <td>4.060941</td>\n",
       "      <td>10.323974</td>\n",
       "      <td>10.556949</td>\n",
       "      <td>10.656656</td>\n",
       "    </tr>\n",
       "    <tr>\n",
       "      <td>75%</td>\n",
       "      <td>1981.107483</td>\n",
       "      <td>127.927496</td>\n",
       "      <td>4.970000</td>\n",
       "      <td>7.040000</td>\n",
       "      <td>85.475000</td>\n",
       "      <td>34.403458</td>\n",
       "      <td>38.699768</td>\n",
       "      <td>9.870806</td>\n",
       "      <td>0.160000</td>\n",
       "      <td>0.162500</td>\n",
       "      <td>0.165000</td>\n",
       "      <td>9.888301</td>\n",
       "      <td>9.905796</td>\n",
       "      <td>9.923290</td>\n",
       "      <td>34.407806</td>\n",
       "      <td>34.412151</td>\n",
       "      <td>34.416496</td>\n",
       "    </tr>\n",
       "    <tr>\n",
       "      <td>max</td>\n",
       "      <td>1993.060059</td>\n",
       "      <td>450.160004</td>\n",
       "      <td>7.240000</td>\n",
       "      <td>16.299999</td>\n",
       "      <td>110.400002</td>\n",
       "      <td>139.863190</td>\n",
       "      <td>145.493195</td>\n",
       "      <td>78.832169</td>\n",
       "      <td>2.719999</td>\n",
       "      <td>2.719999</td>\n",
       "      <td>2.719999</td>\n",
       "      <td>78.832169</td>\n",
       "      <td>78.832169</td>\n",
       "      <td>78.832169</td>\n",
       "      <td>139.863190</td>\n",
       "      <td>139.863190</td>\n",
       "      <td>139.863190</td>\n",
       "    </tr>\n",
       "  </tbody>\n",
       "</table>\n",
       "</div>"
      ],
      "text/plain": [
       "              date       sp500      divyld          i3          ip  \\\n",
       "count   558.000000  558.000000  558.000000  558.000000  558.000000   \n",
       "mean   1969.816528  118.273407    4.154139    5.004945   62.609501   \n",
       "std      13.436476  103.437805    1.102117    3.171102   27.408918   \n",
       "min    1947.010010   13.970000    2.690000    0.380000   21.600000   \n",
       "25%    1958.082458   48.824999    3.190000    2.610000   36.000000   \n",
       "50%    1970.035034   92.275002    3.815000    4.610000   62.000000   \n",
       "75%    1981.107483  127.927496    4.970000    7.040000   85.475000   \n",
       "max    1993.060059  450.160004    7.240000   16.299999  110.400002   \n",
       "\n",
       "             pcsp      rsp500        pcip         ci3       ci3_1       ci3_2  \\\n",
       "count  557.000000  557.000000  557.000000  557.000000  556.000000  555.000000   \n",
       "mean     7.990778   12.144324    3.507907    0.004883    0.004640    0.004523   \n",
       "std     40.326008   40.297913   13.237979    0.491545    0.491954    0.492390   \n",
       "min   -150.556854 -146.896851  -50.632912   -4.850000   -4.850000   -4.850000   \n",
       "25%    -15.125109  -11.057409   -3.719046   -0.120000   -0.120000   -0.120000   \n",
       "50%     10.090999   14.596664    4.040342    0.010000    0.010000    0.010000   \n",
       "75%     34.403458   38.699768    9.870806    0.160000    0.162500    0.165000   \n",
       "max    139.863190  145.493195   78.832169    2.719999    2.719999    2.719999   \n",
       "\n",
       "           pcip_1      pcip_2      pcip_3      pcsp_1      pcsp_2      pcsp_3  \n",
       "count  556.000000  555.000000  554.000000  556.000000  555.000000  554.000000  \n",
       "mean     3.518129    3.526427    3.526890    7.991529    7.995339    8.043839  \n",
       "std     13.247705   13.258218   13.270181   40.362339   40.398628   40.418968  \n",
       "min    -50.632912  -50.632912  -50.632912 -150.556854 -150.556854 -150.556854  \n",
       "25%     -3.734170   -3.749294   -3.764418  -15.186691  -15.248274  -15.102324  \n",
       "50%      4.047206    4.054070    4.060941   10.323974   10.556949   10.656656  \n",
       "75%      9.888301    9.905796    9.923290   34.407806   34.412151   34.416496  \n",
       "max     78.832169   78.832169   78.832169  139.863190  139.863190  139.863190  "
      ]
     },
     "execution_count": 6,
     "metadata": {},
     "output_type": "execute_result"
    }
   ],
   "source": [
    "df.describe()"
   ]
  },
  {
   "cell_type": "markdown",
   "metadata": {},
   "source": [
    "# Checking for null values"
   ]
  },
  {
   "cell_type": "code",
   "execution_count": 7,
   "metadata": {},
   "outputs": [
    {
     "data": {
      "text/plain": [
       "date      False\n",
       "sp500     False\n",
       "divyld    False\n",
       "i3        False\n",
       "ip        False\n",
       "pcsp       True\n",
       "rsp500     True\n",
       "pcip       True\n",
       "ci3        True\n",
       "ci3_1      True\n",
       "ci3_2      True\n",
       "pcip_1     True\n",
       "pcip_2     True\n",
       "pcip_3     True\n",
       "pcsp_1     True\n",
       "pcsp_2     True\n",
       "pcsp_3     True\n",
       "month     False\n",
       "dtype: bool"
      ]
     },
     "execution_count": 7,
     "metadata": {},
     "output_type": "execute_result"
    }
   ],
   "source": [
    "df.isna().any()"
   ]
  },
  {
   "cell_type": "code",
   "execution_count": 10,
   "metadata": {},
   "outputs": [
    {
     "data": {
      "text/plain": [
       "<matplotlib.axes._subplots.AxesSubplot at 0x22f9435bdc8>"
      ]
     },
     "execution_count": 10,
     "metadata": {},
     "output_type": "execute_result"
    },
    {
     "data": {
      "image/png": "[encoded data removed]",
      "text/plain": [
       "<Figure size 1800x720 with 2 Axes>"
      ]
     },
     "metadata": {
      "needs_background": "light"
     },
     "output_type": "display_data"
    }
   ],
   "source": [
    "missingno.matrix(df)"
   ]
  },
  {
   "cell_type": "markdown",
   "metadata": {},
   "source": [
    "# Q1a\n",
    "\n",
    "Consider the equation rsp500_t = \\beta_0 + \\beta_1 * pcip_t + \\beta_2 * i3_t + u_t\n",
    "\n",
    "What signs do you think \\beta_1 and \\beta_2 should have?"
   ]
  },
  {
   "cell_type": "markdown",
   "metadata": {},
   "source": [
    "\\beta_1 should have a positive sign. The more investment is put into industrial production, the greater the return from the S&P 500.\n",
    "\n",
    "\\beta_2 should have a negative sign. Bonds and stocks are opposites in terms of how investors consume them. Bonds are safer than stocks but offer a lower return. When stocks prices go up, bond prices go down."
   ]
  },
  {
   "cell_type": "code",
   "execution_count": 14,
   "metadata": {},
   "outputs": [
    {
     "name": "stdout",
     "output_type": "stream",
     "text": [
      "                            OLS Regression Results                            \n",
      "==============================================================================\n",
      "Dep. Variable:                 rsp500   R-squared:                       0.012\n",
      "Model:                            OLS   Adj. R-squared:                  0.008\n",
      "Method:                 Least Squares   F-statistic:                     3.334\n",
      "Date:                Thu, 04 Feb 2021   Prob (F-statistic):             0.0364\n",
      "Time:                        09:19:24   Log-Likelihood:                -2845.4\n",
      "No. Observations:                 557   AIC:                             5697.\n",
      "Df Residuals:                     554   BIC:                             5710.\n",
      "Df Model:                           2                                         \n",
      "Covariance Type:            nonrobust                                         \n",
      "==============================================================================\n",
      "                 coef    std err          t      P>|t|      [0.025      0.975]\n",
      "------------------------------------------------------------------------------\n",
      "const         18.8431      3.275      5.754      0.000      12.410      25.276\n",
      "pcip           0.0364      0.129      0.281      0.778      -0.218       0.291\n",
      "i3            -1.3617      0.541     -2.518      0.012      -2.424      -0.300\n",
      "==============================================================================\n",
      "Omnibus:                       33.184   Durbin-Watson:                   1.524\n",
      "Prob(Omnibus):                  0.000   Jarque-Bera (JB):               60.914\n",
      "Skew:                          -0.391   Prob(JB):                     5.93e-14\n",
      "Kurtosis:                       4.419   Cond. No.                         26.7\n",
      "==============================================================================\n",
      "\n",
      "Warnings:\n",
      "[1] Standard Errors assume that the covariance matrix of the errors is correctly specified.\n"
     ]
    }
   ],
   "source": [
    "X = df[[\"pcip\", \"i3\"]]\n",
    "X = sm.add_constant(X)\n",
    "y = df[\"rsp500\"]\n",
    "\n",
    "model = sm.OLS(y, X, missing = \"drop\")\n",
    "results = model.fit()\n",
    "print(results.summary())"
   ]
  },
  {
   "cell_type": "markdown",
   "metadata": {},
   "source": [
    "# Q1b: Interpreting signs and magnitudes\n",
    "\n",
    "This is a level-level model for both variables.\n",
    "\n",
    "pcip - A one percentage point increase in pcip leads to a $0.037 increase in monthly return from the S&P500 on average, ceteris paribus.\n",
    "\n",
    "i3 - A one dollar increase in i3 leads to a $1.36 decrease in monthly return from the S&P500 on average, ceteris paribus.\n",
    "\n"
   ]
  },
  {
   "cell_type": "markdown",
   "metadata": {},
   "source": [
    "# Q1c: Which of the variables is statistically significant?\n",
    "\n",
    "i3 and const are statistically significant because they have p value of less than 0.05."
   ]
  },
  {
   "cell_type": "code",
   "execution_count": 16,
   "metadata": {},
   "outputs": [
    {
     "name": "stdout",
     "output_type": "stream",
     "text": [
      "-0.6685767097966726\n",
      "Fail to reject H_0 = -1 at alpha = 0.05\n"
     ]
    }
   ],
   "source": [
    "# Formula for t-statistic\n",
    "t_statistic = (-1.3617-(-1))/(0.541)\n",
    "\n",
    "print(t_statistic)\n",
    "\n",
    "if abs(t_statistic) >= 1.96:\n",
    "    print(\"Reject H_0 = -1 at alpha = 0.05\")\n",
    "else:\n",
    "    print(\"Fail to reject H_0 = -1 at alpha = 0.05\")"
   ]
  },
  {
   "cell_type": "markdown",
   "metadata": {},
   "source": [
    "# Q1d: Does your finding from part b) imply that the return on the S&P500 is predictable? Explain."
   ]
  },
  {
   "cell_type": "markdown",
   "metadata": {},
   "source": [
    "No. Just knowing the regression output is not good enough to determine if the return is predictable. The x variables are dated contemporaneously with rsp500. The regression only says that there is a change in i3 that is associated with a contemporaneous change in rsp500. A time lag needs to be introduced to account for this and to make predictions."
   ]
  },
  {
   "cell_type": "markdown",
   "metadata": {},
   "source": [
    "# Are your conclusions for (b) to (d) reliable? Explain?"
   ]
  },
  {
   "cell_type": "markdown",
   "metadata": {},
   "source": [
    "No. Before running the regression on time series data, we need to check for stationarity. Otherwise, the output can be invalid if the time series data happens to not be stationary."
   ]
  },
  {
   "cell_type": "markdown",
   "metadata": {},
   "source": [
    "## Corrections: \n",
    "\n",
    "- Check for homoskedasticity and lack of serial correlation\n",
    "    - These are necessary conditions for a valid standard error"
   ]
  },
  {
   "cell_type": "code",
   "execution_count": 25,
   "metadata": {},
   "outputs": [
    {
     "data": {
      "text/plain": [
       "<matplotlib.axes._subplots.AxesSubplot at 0x22f953d1248>"
      ]
     },
     "execution_count": 25,
     "metadata": {},
     "output_type": "execute_result"
    },
    {
     "data": {
      "image/png": "[encoded data removed]",
      "text/plain": [
       "<Figure size 432x288 with 1 Axes>"
      ]
     },
     "metadata": {
      "needs_background": "light"
     },
     "output_type": "display_data"
    }
   ],
   "source": [
    "# Checking for stationarity\n",
    "# df.set_index(\"date\").plot()\n",
    "\n",
    "df.plot(x = \"date\", y = [\"i3\", \"pcip\"])"
   ]
  },
  {
   "cell_type": "code",
   "execution_count": 28,
   "metadata": {},
   "outputs": [
    {
     "data": {
      "text/plain": [
       "<matplotlib.axes._subplots.AxesSubplot at 0x22f95685c48>"
      ]
     },
     "execution_count": 28,
     "metadata": {},
     "output_type": "execute_result"
    },
    {
     "data": {
      "image/png": "[encoded data removed]",
      "text/plain": [
       "<Figure size 432x288 with 1 Axes>"
      ]
     },
     "metadata": {
      "needs_background": "light"
     },
     "output_type": "display_data"
    }
   ],
   "source": [
    "# Checking for homoskedasticity\n",
    "\n",
    "df.plot(y = \"rsp500\", x = \"i3\", kind = \"scatter\")"
   ]
  },
  {
   "cell_type": "markdown",
   "metadata": {},
   "source": [
    "# Q2a: Suppose the time series model below satisfies the Gauss-Markov assumptions. Explain the coefficients \\beta_1, \\beta_2, \\beta_3\n",
    "\n",
    "GDP_t = \\beta_0 + \\beta_1 * time + \\beta_2 * interest_rate_t + \\beta_3 * interest_rate_(t-1) + u_t"
   ]
  },
  {
   "cell_type": "markdown",
   "metadata": {},
   "source": [
    "\\beta_1 represents the per unit change in GDP at a given time period on average, ceteris paribus\n",
    "\n",
    "\\beta_2 represents the per unit change in GDP given a per unit change in interest rate in the same period on average, ceteris paribus\n",
    "\n",
    "\\beta_3 represents the per unit change in GDP given a per unit change in interest rate in the previous period on average, ceteris paribus"
   ]
  },
  {
   "cell_type": "markdown",
   "metadata": {},
   "source": [
    "# Q2b: Provide one time series example such that the y series' Cov(y_t, y_(t-1)) > 0"
   ]
  },
  {
   "cell_type": "markdown",
   "metadata": {},
   "source": [
    "During periods of economic growth, Cov(y_t, y_(t-1)) > 0"
   ]
  },
  {
   "cell_type": "markdown",
   "metadata": {},
   "source": [
    "# Q2b: Provide one time series example such that the y series' Cov(y_t, y_(t-1)) < 0"
   ]
  },
  {
   "cell_type": "markdown",
   "metadata": {},
   "source": [
    "Year to year fluctuations under uncertain economic conditions Cov(y_t, y_(t-1)) < 0"
   ]
  },
  {
   "cell_type": "markdown",
   "metadata": {},
   "source": [
    "## Corrections:\n",
    "\n",
    "Temperature observed every 12 hours"
   ]
  },
  {
   "cell_type": "markdown",
   "metadata": {},
   "source": [
    "# Q2d: Consider the time series regression model as follows:\n",
    "\n",
    "ln(GDP_t) = \\beta_0 + \\beta_1 * unemployment_rate_t + \\beta_2 * investment_t + u_t\n",
    "\n",
    "Do you think the strict exogeneity assumption holds? Why?"
   ]
  },
  {
   "cell_type": "markdown",
   "metadata": {},
   "source": [
    "The strict exogeneity assumption does not hold. It is easy to find a variable within the u_t term that correlates with either unemployment rate or investment across both current, past and future periods.\n",
    "\n",
    "\n",
    "For example, the presence of a recession would correlate with both unemployment rate and investment across multiple periods."
   ]
  },
  {
   "cell_type": "markdown",
   "metadata": {},
   "source": [
    "# Q2e: Comment on the following statement, \"Like cross-sectional observations, we can assume that most time series observations are inpdendently distributed\""
   ]
  },
  {
   "cell_type": "markdown",
   "metadata": {},
   "source": [
    "This is false. Due to aspects of time series data like temporal ordering and serial correlation, time series observations are dependent on observations from previous periods. This is unlike cross-sectional observations, which are randomly sampled and hence are assumed to be independent observations."
   ]
  },
  {
   "attachments": {
    "image.png": {
     "image/png": "[encoded data removed]"
    }
   },
   "cell_type": "markdown",
   "metadata": {},
   "source": [
    "# Q3: Consider the following time series regression model\n",
    "\n",
    "![image.png](attachment:image.png)"
   ]
  },
  {
   "cell_type": "markdown",
   "metadata": {},
   "source": [
    "# Q3a: Write down the strict exogeneity assumption using the matrix form similar to page 10 on Lecture Note 2. Explain every element in your matrix form in detail."
   ]
  },
  {
   "cell_type": "markdown",
   "metadata": {},
   "source": [
    "E(u_t|interest_rate, population, unemployment_rate), = 0, t = 1,...,T\n",
    "\n",
    "The error term conditional on interest rate, population size and unemployment rate is uncorrelated in past, present and future periods. \n",
    "\n",
    "There is no t subscript because strict exogeneity requires that each error term is mean-independent from all regressors past present and future."
   ]
  },
  {
   "cell_type": "markdown",
   "metadata": {},
   "source": [
    "# Q3b: Write down the contemporaneous exogeneity assumption\n",
    "\n",
    "E(u_t|interest_rate_t, population_t, unemployment_rate_t) = 0, t = 1,...,T\n"
   ]
  }
 ],
 "metadata": {
  "kernelspec": {
   "display_name": "Python 3",
   "language": "python",
   "name": "python3"
  },
  "language_info": {
   "codemirror_mode": {
    "name": "ipython",
    "version": 3
   },
   "file_extension": ".py",
   "mimetype": "text/x-python",
   "name": "python",
   "nbconvert_exporter": "python",
   "pygments_lexer": "ipython3",
   "version": "3.7.4"
  }
 },
 "nbformat": 4,
 "nbformat_minor": 2
}
