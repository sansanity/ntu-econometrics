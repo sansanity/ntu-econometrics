{
 "cells": [
  {
   "cell_type": "code",
   "execution_count": 8,
   "metadata": {},
   "outputs": [],
   "source": [
    "import pandas as pd \n",
    "import sklearn\n",
    "import matplotlib.pyplot as plt\n",
    "import statsmodels.api as sm\n",
    "import numpy as np\n",
    "from scipy.stats import ttest_1samp"
   ]
  },
  {
   "cell_type": "markdown",
   "metadata": {},
   "source": [
    "# Importing the data"
   ]
  },
  {
   "cell_type": "code",
   "execution_count": 9,
   "metadata": {},
   "outputs": [
    {
     "name": "stdout",
     "output_type": "stream",
     "text": [
      "   mage  meduc  monpre  npvis  fage  feduc  bwght  omaps  fmaps  cigs  ...  \\\n",
      "0    26   12.0     2.0   12.0  34.0   16.0   3060    9.0    9.0   0.0  ...   \n",
      "1    29   12.0     2.0   12.0  32.0   12.0   3730    8.0    9.0   NaN  ...   \n",
      "2    33   12.0     1.0   12.0  36.0   16.0   2530    8.0    9.0   0.0  ...   \n",
      "3    28   17.0     5.0    8.0  32.0   17.0   3289    8.0    9.0   0.0  ...   \n",
      "4    23   13.0     2.0    6.0  24.0   16.0   3590    6.0    8.0   0.0  ...   \n",
      "\n",
      "   male  mwhte  mblck  moth  fwhte  fblck  foth    lbwght  magesq  npvissq  \n",
      "0     1      0      0     1      0      0     1  8.026170     676    144.0  \n",
      "1     0      1      0     0      1      0     0  8.224163     841    144.0  \n",
      "2     0      1      0     0      1      0     0  7.835975    1089    144.0  \n",
      "3     1      1      0     0      1      0     0  8.098339     784     64.0  \n",
      "4     1      1      0     0      1      0     0  8.185907     529     36.0  \n",
      "\n",
      "[5 rows x 23 columns]\n",
      "(1832, 23)\n"
     ]
    }
   ],
   "source": [
    "# Importing data\n",
    "df = pd.read_stata(\"bwght2.dta\")\n",
    "print(df.head())\n",
    "print(df.shape)"
   ]
  },
  {
   "cell_type": "code",
   "execution_count": 10,
   "metadata": {},
   "outputs": [
    {
     "data": {
      "text/html": [
       "<div>\n",
       "<style scoped>\n",
       "    .dataframe tbody tr th:only-of-type {\n",
       "        vertical-align: middle;\n",
       "    }\n",
       "\n",
       "    .dataframe tbody tr th {\n",
       "        vertical-align: top;\n",
       "    }\n",
       "\n",
       "    .dataframe thead th {\n",
       "        text-align: right;\n",
       "    }\n",
       "</style>\n",
       "<table border=\"1\" class=\"dataframe\">\n",
       "  <thead>\n",
       "    <tr style=\"text-align: right;\">\n",
       "      <th></th>\n",
       "      <th>mage</th>\n",
       "      <th>meduc</th>\n",
       "      <th>monpre</th>\n",
       "      <th>npvis</th>\n",
       "      <th>fage</th>\n",
       "      <th>feduc</th>\n",
       "      <th>bwght</th>\n",
       "      <th>omaps</th>\n",
       "      <th>fmaps</th>\n",
       "      <th>cigs</th>\n",
       "      <th>...</th>\n",
       "      <th>male</th>\n",
       "      <th>mwhte</th>\n",
       "      <th>mblck</th>\n",
       "      <th>moth</th>\n",
       "      <th>fwhte</th>\n",
       "      <th>fblck</th>\n",
       "      <th>foth</th>\n",
       "      <th>lbwght</th>\n",
       "      <th>magesq</th>\n",
       "      <th>npvissq</th>\n",
       "    </tr>\n",
       "  </thead>\n",
       "  <tbody>\n",
       "    <tr>\n",
       "      <td>count</td>\n",
       "      <td>1832.000000</td>\n",
       "      <td>1802.000000</td>\n",
       "      <td>1827.000000</td>\n",
       "      <td>1764.000000</td>\n",
       "      <td>1826.000000</td>\n",
       "      <td>1785.000000</td>\n",
       "      <td>1832.000000</td>\n",
       "      <td>1829.000000</td>\n",
       "      <td>1829.000000</td>\n",
       "      <td>1722.000000</td>\n",
       "      <td>...</td>\n",
       "      <td>1832.000000</td>\n",
       "      <td>1832.000000</td>\n",
       "      <td>1832.000000</td>\n",
       "      <td>1832.000000</td>\n",
       "      <td>1832.000000</td>\n",
       "      <td>1832.000000</td>\n",
       "      <td>1832.000000</td>\n",
       "      <td>1832.000000</td>\n",
       "      <td>1832.000000</td>\n",
       "      <td>1764.000000</td>\n",
       "    </tr>\n",
       "    <tr>\n",
       "      <td>mean</td>\n",
       "      <td>29.557860</td>\n",
       "      <td>13.718091</td>\n",
       "      <td>2.122058</td>\n",
       "      <td>11.620181</td>\n",
       "      <td>31.918949</td>\n",
       "      <td>13.915406</td>\n",
       "      <td>3401.122271</td>\n",
       "      <td>8.386003</td>\n",
       "      <td>9.003827</td>\n",
       "      <td>1.089431</td>\n",
       "      <td>...</td>\n",
       "      <td>0.513646</td>\n",
       "      <td>0.886463</td>\n",
       "      <td>0.059498</td>\n",
       "      <td>0.054039</td>\n",
       "      <td>0.889738</td>\n",
       "      <td>0.058406</td>\n",
       "      <td>0.051856</td>\n",
       "      <td>8.114244</td>\n",
       "      <td>896.417031</td>\n",
       "      <td>148.569161</td>\n",
       "    </tr>\n",
       "    <tr>\n",
       "      <td>std</td>\n",
       "      <td>4.770991</td>\n",
       "      <td>2.092369</td>\n",
       "      <td>1.233385</td>\n",
       "      <td>3.680791</td>\n",
       "      <td>5.713047</td>\n",
       "      <td>2.266473</td>\n",
       "      <td>576.544431</td>\n",
       "      <td>1.121083</td>\n",
       "      <td>0.479887</td>\n",
       "      <td>4.222476</td>\n",
       "      <td>...</td>\n",
       "      <td>0.499950</td>\n",
       "      <td>0.317335</td>\n",
       "      <td>0.236619</td>\n",
       "      <td>0.226157</td>\n",
       "      <td>0.313302</td>\n",
       "      <td>0.234574</td>\n",
       "      <td>0.221797</td>\n",
       "      <td>0.203177</td>\n",
       "      <td>285.409099</td>\n",
       "      <td>112.902763</td>\n",
       "    </tr>\n",
       "    <tr>\n",
       "      <td>min</td>\n",
       "      <td>16.000000</td>\n",
       "      <td>3.000000</td>\n",
       "      <td>0.000000</td>\n",
       "      <td>0.000000</td>\n",
       "      <td>18.000000</td>\n",
       "      <td>3.000000</td>\n",
       "      <td>360.000000</td>\n",
       "      <td>0.000000</td>\n",
       "      <td>2.000000</td>\n",
       "      <td>0.000000</td>\n",
       "      <td>...</td>\n",
       "      <td>0.000000</td>\n",
       "      <td>0.000000</td>\n",
       "      <td>0.000000</td>\n",
       "      <td>0.000000</td>\n",
       "      <td>0.000000</td>\n",
       "      <td>0.000000</td>\n",
       "      <td>0.000000</td>\n",
       "      <td>5.886104</td>\n",
       "      <td>256.000000</td>\n",
       "      <td>0.000000</td>\n",
       "    </tr>\n",
       "    <tr>\n",
       "      <td>25%</td>\n",
       "      <td>26.000000</td>\n",
       "      <td>12.000000</td>\n",
       "      <td>1.000000</td>\n",
       "      <td>10.000000</td>\n",
       "      <td>28.000000</td>\n",
       "      <td>12.000000</td>\n",
       "      <td>3076.000000</td>\n",
       "      <td>8.000000</td>\n",
       "      <td>9.000000</td>\n",
       "      <td>0.000000</td>\n",
       "      <td>...</td>\n",
       "      <td>0.000000</td>\n",
       "      <td>1.000000</td>\n",
       "      <td>0.000000</td>\n",
       "      <td>0.000000</td>\n",
       "      <td>1.000000</td>\n",
       "      <td>0.000000</td>\n",
       "      <td>0.000000</td>\n",
       "      <td>8.031385</td>\n",
       "      <td>676.000000</td>\n",
       "      <td>100.000000</td>\n",
       "    </tr>\n",
       "    <tr>\n",
       "      <td>50%</td>\n",
       "      <td>29.000000</td>\n",
       "      <td>13.000000</td>\n",
       "      <td>2.000000</td>\n",
       "      <td>12.000000</td>\n",
       "      <td>31.000000</td>\n",
       "      <td>14.000000</td>\n",
       "      <td>3425.000000</td>\n",
       "      <td>9.000000</td>\n",
       "      <td>9.000000</td>\n",
       "      <td>0.000000</td>\n",
       "      <td>...</td>\n",
       "      <td>1.000000</td>\n",
       "      <td>1.000000</td>\n",
       "      <td>0.000000</td>\n",
       "      <td>0.000000</td>\n",
       "      <td>1.000000</td>\n",
       "      <td>0.000000</td>\n",
       "      <td>0.000000</td>\n",
       "      <td>8.138857</td>\n",
       "      <td>841.000000</td>\n",
       "      <td>144.000000</td>\n",
       "    </tr>\n",
       "    <tr>\n",
       "      <td>75%</td>\n",
       "      <td>33.000000</td>\n",
       "      <td>16.000000</td>\n",
       "      <td>2.000000</td>\n",
       "      <td>13.000000</td>\n",
       "      <td>35.000000</td>\n",
       "      <td>16.000000</td>\n",
       "      <td>3770.000000</td>\n",
       "      <td>9.000000</td>\n",
       "      <td>9.000000</td>\n",
       "      <td>0.000000</td>\n",
       "      <td>...</td>\n",
       "      <td>1.000000</td>\n",
       "      <td>1.000000</td>\n",
       "      <td>0.000000</td>\n",
       "      <td>0.000000</td>\n",
       "      <td>1.000000</td>\n",
       "      <td>0.000000</td>\n",
       "      <td>0.000000</td>\n",
       "      <td>8.234830</td>\n",
       "      <td>1089.000000</td>\n",
       "      <td>169.000000</td>\n",
       "    </tr>\n",
       "    <tr>\n",
       "      <td>max</td>\n",
       "      <td>44.000000</td>\n",
       "      <td>17.000000</td>\n",
       "      <td>9.000000</td>\n",
       "      <td>40.000000</td>\n",
       "      <td>64.000000</td>\n",
       "      <td>17.000000</td>\n",
       "      <td>5204.000000</td>\n",
       "      <td>10.000000</td>\n",
       "      <td>10.000000</td>\n",
       "      <td>40.000000</td>\n",
       "      <td>...</td>\n",
       "      <td>1.000000</td>\n",
       "      <td>1.000000</td>\n",
       "      <td>1.000000</td>\n",
       "      <td>1.000000</td>\n",
       "      <td>1.000000</td>\n",
       "      <td>1.000000</td>\n",
       "      <td>1.000000</td>\n",
       "      <td>8.557183</td>\n",
       "      <td>1936.000000</td>\n",
       "      <td>1600.000000</td>\n",
       "    </tr>\n",
       "  </tbody>\n",
       "</table>\n",
       "<p>8 rows × 23 columns</p>\n",
       "</div>"
      ],
      "text/plain": [
       "              mage        meduc       monpre        npvis         fage  \\\n",
       "count  1832.000000  1802.000000  1827.000000  1764.000000  1826.000000   \n",
       "mean     29.557860    13.718091     2.122058    11.620181    31.918949   \n",
       "std       4.770991     2.092369     1.233385     3.680791     5.713047   \n",
       "min      16.000000     3.000000     0.000000     0.000000    18.000000   \n",
       "25%      26.000000    12.000000     1.000000    10.000000    28.000000   \n",
       "50%      29.000000    13.000000     2.000000    12.000000    31.000000   \n",
       "75%      33.000000    16.000000     2.000000    13.000000    35.000000   \n",
       "max      44.000000    17.000000     9.000000    40.000000    64.000000   \n",
       "\n",
       "             feduc        bwght        omaps        fmaps         cigs  ...  \\\n",
       "count  1785.000000  1832.000000  1829.000000  1829.000000  1722.000000  ...   \n",
       "mean     13.915406  3401.122271     8.386003     9.003827     1.089431  ...   \n",
       "std       2.266473   576.544431     1.121083     0.479887     4.222476  ...   \n",
       "min       3.000000   360.000000     0.000000     2.000000     0.000000  ...   \n",
       "25%      12.000000  3076.000000     8.000000     9.000000     0.000000  ...   \n",
       "50%      14.000000  3425.000000     9.000000     9.000000     0.000000  ...   \n",
       "75%      16.000000  3770.000000     9.000000     9.000000     0.000000  ...   \n",
       "max      17.000000  5204.000000    10.000000    10.000000    40.000000  ...   \n",
       "\n",
       "              male        mwhte        mblck         moth        fwhte  \\\n",
       "count  1832.000000  1832.000000  1832.000000  1832.000000  1832.000000   \n",
       "mean      0.513646     0.886463     0.059498     0.054039     0.889738   \n",
       "std       0.499950     0.317335     0.236619     0.226157     0.313302   \n",
       "min       0.000000     0.000000     0.000000     0.000000     0.000000   \n",
       "25%       0.000000     1.000000     0.000000     0.000000     1.000000   \n",
       "50%       1.000000     1.000000     0.000000     0.000000     1.000000   \n",
       "75%       1.000000     1.000000     0.000000     0.000000     1.000000   \n",
       "max       1.000000     1.000000     1.000000     1.000000     1.000000   \n",
       "\n",
       "             fblck         foth       lbwght       magesq      npvissq  \n",
       "count  1832.000000  1832.000000  1832.000000  1832.000000  1764.000000  \n",
       "mean      0.058406     0.051856     8.114244   896.417031   148.569161  \n",
       "std       0.234574     0.221797     0.203177   285.409099   112.902763  \n",
       "min       0.000000     0.000000     5.886104   256.000000     0.000000  \n",
       "25%       0.000000     0.000000     8.031385   676.000000   100.000000  \n",
       "50%       0.000000     0.000000     8.138857   841.000000   144.000000  \n",
       "75%       0.000000     0.000000     8.234830  1089.000000   169.000000  \n",
       "max       1.000000     1.000000     8.557183  1936.000000  1600.000000  \n",
       "\n",
       "[8 rows x 23 columns]"
      ]
     },
     "execution_count": 10,
     "metadata": {},
     "output_type": "execute_result"
    }
   ],
   "source": [
    "df.describe()"
   ]
  },
  {
   "cell_type": "markdown",
   "metadata": {},
   "source": [
    "# Checking for null values"
   ]
  },
  {
   "cell_type": "code",
   "execution_count": 11,
   "metadata": {},
   "outputs": [
    {
     "data": {
      "text/plain": [
       "mage       False\n",
       "meduc       True\n",
       "monpre      True\n",
       "npvis       True\n",
       "fage        True\n",
       "feduc       True\n",
       "bwght      False\n",
       "omaps       True\n",
       "fmaps       True\n",
       "cigs        True\n",
       "drink       True\n",
       "lbw        False\n",
       "vlbw       False\n",
       "male       False\n",
       "mwhte      False\n",
       "mblck      False\n",
       "moth       False\n",
       "fwhte      False\n",
       "fblck      False\n",
       "foth       False\n",
       "lbwght     False\n",
       "magesq     False\n",
       "npvissq     True\n",
       "dtype: bool"
      ]
     },
     "execution_count": 11,
     "metadata": {},
     "output_type": "execute_result"
    }
   ],
   "source": [
    "df.isna().any()"
   ]
  },
  {
   "cell_type": "markdown",
   "metadata": {},
   "source": [
    "# Q1a: What is the average birth weight for the babies in this sample?"
   ]
  },
  {
   "cell_type": "code",
   "execution_count": 12,
   "metadata": {},
   "outputs": [
    {
     "data": {
      "text/plain": [
       "3401.122270742358"
      ]
     },
     "execution_count": 12,
     "metadata": {},
     "output_type": "execute_result"
    }
   ],
   "source": [
    "df[\"bwght\"].mean()"
   ]
  },
  {
   "cell_type": "markdown",
   "metadata": {},
   "source": [
    "# Q1b: Find the median birth weight"
   ]
  },
  {
   "cell_type": "code",
   "execution_count": 13,
   "metadata": {},
   "outputs": [
    {
     "data": {
      "text/plain": [
       "3425.0"
      ]
     },
     "execution_count": 13,
     "metadata": {},
     "output_type": "execute_result"
    }
   ],
   "source": [
    "df[\"bwght\"].median()"
   ]
  },
  {
   "cell_type": "markdown",
   "metadata": {},
   "source": [
    "# Q1c: Draw the empirical histogram for the birth weight"
   ]
  },
  {
   "cell_type": "code",
   "execution_count": 14,
   "metadata": {},
   "outputs": [
    {
     "data": {
      "text/plain": [
       "<matplotlib.axes._subplots.AxesSubplot at 0x19b2d0b89c8>"
      ]
     },
     "execution_count": 14,
     "metadata": {},
     "output_type": "execute_result"
    },
    {
     "data": {
      "image/png": "[encoded data removed]",
      "text/plain": [
       "<Figure size 432x288 with 1 Axes>"
      ]
     },
     "metadata": {
      "needs_background": "light"
     },
     "output_type": "display_data"
    }
   ],
   "source": [
    "df[\"bwght\"].plot(kind = \"hist\", bins = 32)"
   ]
  },
  {
   "cell_type": "markdown",
   "metadata": {},
   "source": [
    "# Q1d: What is the Interpretation of beta_3? Find out the OLS estimate."
   ]
  },
  {
   "cell_type": "code",
   "execution_count": 15,
   "metadata": {},
   "outputs": [
    {
     "name": "stdout",
     "output_type": "stream",
     "text": [
      "                            OLS Regression Results                            \n",
      "==============================================================================\n",
      "Dep. Variable:                  bwght   R-squared:                       0.021\n",
      "Model:                            OLS   Adj. R-squared:                  0.019\n",
      "Method:                 Least Squares   F-statistic:                     8.979\n",
      "Date:                Thu, 04 Feb 2021   Prob (F-statistic):           3.58e-07\n",
      "Time:                        09:27:12   Log-Likelihood:                -12851.\n",
      "No. Observations:                1656   AIC:                         2.571e+04\n",
      "Df Residuals:                    1651   BIC:                         2.574e+04\n",
      "Df Model:                           4                                         \n",
      "Covariance Type:            nonrobust                                         \n",
      "==============================================================================\n",
      "                 coef    std err          t      P>|t|      [0.025      0.975]\n",
      "------------------------------------------------------------------------------\n",
      "const       3097.5975     80.639     38.413      0.000    2939.433    3255.762\n",
      "npvis         32.8033     10.554      3.108      0.002      12.102      53.504\n",
      "npvissq       -0.6693      0.342     -1.956      0.051      -1.340       0.002\n",
      "cigs          -9.9013      3.333     -2.971      0.003     -16.439      -3.364\n",
      "male          81.3136     27.976      2.907      0.004      26.442     136.185\n",
      "==============================================================================\n",
      "Omnibus:                      145.008   Durbin-Watson:                   1.910\n",
      "Prob(Omnibus):                  0.000   Jarque-Bera (JB):              322.162\n",
      "Skew:                          -0.535   Prob(JB):                     1.11e-70\n",
      "Kurtosis:                       4.877   Cond. No.                     1.10e+03\n",
      "==============================================================================\n",
      "\n",
      "Warnings:\n",
      "[1] Standard Errors assume that the covariance matrix of the errors is correctly specified.\n",
      "[2] The condition number is large, 1.1e+03. This might indicate that there are\n",
      "strong multicollinearity or other numerical problems.\n"
     ]
    },
    {
     "name": "stderr",
     "output_type": "stream",
     "text": [
      "C:\\ProgramData\\Anaconda3\\lib\\site-packages\\numpy\\core\\fromnumeric.py:2389: FutureWarning: Method .ptp is deprecated and will be removed in a future version. Use numpy.ptp instead.\n",
      "  return ptp(axis=axis, out=out, **kwargs)\n"
     ]
    }
   ],
   "source": [
    "# Removing null values\n",
    "# df = df.dropna()\n",
    "\n",
    "\n",
    "# Setting up the Regression Model\n",
    "\n",
    "X = df[[\"npvis\", \"npvissq\", \"cigs\", \"male\"]]\n",
    "X = sm.add_constant(X)\n",
    "y = df[\"bwght\"]\n",
    "\n",
    "\n",
    "model = sm.OLS(y, X, missing = \"drop\")\n",
    "results = model.fit()\n",
    "print(results.summary())\n",
    "\n",
    "# Beta_3's estimate is -9.6390. The interpretation of beta_3 is that for every additional cigarette smoked per day on average during preganncy, the birth weigh  decreases by -9.6390grams on average, ceteris paribus.\n"
   ]
  },
  {
   "cell_type": "markdown",
   "metadata": {},
   "source": [
    "# Question 1e) Test the null hypothesis that beta_3 = -10 against the alternative beta_3 != -10 at 5% significance level"
   ]
  },
  {
   "cell_type": "code",
   "execution_count": 16,
   "metadata": {},
   "outputs": [
    {
     "data": {
      "text/html": [
       "<div>\n",
       "<style scoped>\n",
       "    .dataframe tbody tr th:only-of-type {\n",
       "        vertical-align: middle;\n",
       "    }\n",
       "\n",
       "    .dataframe tbody tr th {\n",
       "        vertical-align: top;\n",
       "    }\n",
       "\n",
       "    .dataframe thead th {\n",
       "        text-align: right;\n",
       "    }\n",
       "</style>\n",
       "<table border=\"1\" class=\"dataframe\">\n",
       "  <thead>\n",
       "    <tr style=\"text-align: right;\">\n",
       "      <th></th>\n",
       "      <th>0</th>\n",
       "      <th>1</th>\n",
       "    </tr>\n",
       "  </thead>\n",
       "  <tbody>\n",
       "    <tr>\n",
       "      <td>const</td>\n",
       "      <td>2939.432943</td>\n",
       "      <td>3255.762140</td>\n",
       "    </tr>\n",
       "    <tr>\n",
       "      <td>npvis</td>\n",
       "      <td>12.102286</td>\n",
       "      <td>53.504304</td>\n",
       "    </tr>\n",
       "    <tr>\n",
       "      <td>npvissq</td>\n",
       "      <td>-1.340309</td>\n",
       "      <td>0.001683</td>\n",
       "    </tr>\n",
       "    <tr>\n",
       "      <td>cigs</td>\n",
       "      <td>-16.438625</td>\n",
       "      <td>-3.364040</td>\n",
       "    </tr>\n",
       "    <tr>\n",
       "      <td>male</td>\n",
       "      <td>26.442046</td>\n",
       "      <td>136.185238</td>\n",
       "    </tr>\n",
       "  </tbody>\n",
       "</table>\n",
       "</div>"
      ],
      "text/plain": [
       "                   0            1\n",
       "const    2939.432943  3255.762140\n",
       "npvis      12.102286    53.504304\n",
       "npvissq    -1.340309     0.001683\n",
       "cigs      -16.438625    -3.364040\n",
       "male       26.442046   136.185238"
      ]
     },
     "execution_count": 16,
     "metadata": {},
     "output_type": "execute_result"
    }
   ],
   "source": [
    "results.conf_int(alpha = 0.05, cols = None)\n",
    "\n",
    "# Fail to reject the null hypothesis that beta_3 = -10 at alpha = 0.05, since -10 falls within the 95% confidence interval"
   ]
  },
  {
   "cell_type": "markdown",
   "metadata": {},
   "source": [
    "# Question 1f) Test the hypothesis that newborn boys weigh by 100grams more than newborn girls at 95% confidence interval. Write down the null and alternative hypothesis.\n",
    "\n",
    "- H_0: newborn boys weigh 100grams compared to newborn girls (beta_4 = 100)\n",
    "\n",
    "- H_A: newborn boys weigh less than or more than 100 grams compared to newborn girls (beta_4 != 100)"
   ]
  },
  {
   "cell_type": "code",
   "execution_count": 17,
   "metadata": {
    "scrolled": true
   },
   "outputs": [
    {
     "name": "stdout",
     "output_type": "stream",
     "text": [
      "                             Test for Constraints                             \n",
      "==============================================================================\n",
      "                 coef    std err          t      P>|t|      [0.025      0.975]\n",
      "------------------------------------------------------------------------------\n",
      "c0            81.3136     27.976     -0.668      0.504      26.442     136.185\n",
      "==============================================================================\n",
      "0.504259156675843\n"
     ]
    }
   ],
   "source": [
    "hypothesis = \"male = 100\"\n",
    "\n",
    "t_test = results.t_test(hypothesis)\n",
    "print(t_test)\n",
    "print(t_test.pvalue)\n",
    "\n",
    "# p value = 0.6976 > 0.05, therefore we fail to reject the null hypothesis at alpha = 0.05"
   ]
  },
  {
   "cell_type": "markdown",
   "metadata": {},
   "source": [
    "# Q1g) What is the partial effect of the number of prenatal doctor visits (npvis) on birth weight?"
   ]
  },
  {
   "cell_type": "code",
   "execution_count": 18,
   "metadata": {},
   "outputs": [],
   "source": [
    "# Manually calculate the partial derivative"
   ]
  },
  {
   "cell_type": "markdown",
   "metadata": {},
   "source": [
    "# Q1h) At what point does one more time of prenatal doctor visits (npvis) reduce the birth weight of the baby? Explain the economic intuition of your result."
   ]
  },
  {
   "cell_type": "code",
   "execution_count": null,
   "metadata": {},
   "outputs": [],
   "source": []
  },
  {
   "cell_type": "markdown",
   "metadata": {},
   "source": [
    "# Q1i) Is the homoskedasticity assumption met? If not, how would you solve the problem?"
   ]
  },
  {
   "cell_type": "code",
   "execution_count": 19,
   "metadata": {},
   "outputs": [
    {
     "name": "stdout",
     "output_type": "stream",
     "text": [
      "{'LM Statistic': 25.120879764318815, 'LM-Test p-value': 4.7571193405178865e-05, 'F-Statistic': 6.357701802708847, 'F-Test p-value': 4.476373713591031e-05}\n",
      "{'LM Statistic': 37.85773453058558, 'LM-Test p-value': 0.00016200351008238106, 'F-Statistic': 3.2032750952065814, 'F-Test p-value': 0.000147226074034355}\n"
     ]
    }
   ],
   "source": [
    "from statsmodels.stats.diagnostic import het_breuschpagan\n",
    "from statsmodels.stats.diagnostic import het_white\n",
    "\n",
    "white_test = het_white(results.resid, results.model.exog)\n",
    "bp_test = het_breuschpagan(results.resid, results.model.exog)\n",
    "\n",
    "labels = [\"LM Statistic\", \"LM-Test p-value\", \"F-Statistic\", \"F-Test p-value\"]\n",
    "print(dict(zip(labels, bp_test)))\n",
    "print(dict(zip(labels, white_test)))\n",
    "\n",
    "# If p < 0.05, the model is heteroskedastic. In this case, p values are both > 0.05, meaning that there is homoskedasticity. \n",
    "\n",
    "# If not, you can always use robust standard error with large sample sizes"
   ]
  },
  {
   "cell_type": "markdown",
   "metadata": {},
   "source": [
    "# Q1j) Do you think that the zero conditional mean assumption holds in this regression model? Why or why not?"
   ]
  },
  {
   "cell_type": "code",
   "execution_count": 20,
   "metadata": {},
   "outputs": [],
   "source": [
    "# Yes... It is very likely that an excluded variable is highly correlated with the indepedent variables. For example, one of the error term variables could be the welath of the family, which easily correlates with the number of doctor visits."
   ]
  },
  {
   "cell_type": "code",
   "execution_count": null,
   "metadata": {},
   "outputs": [],
   "source": []
  },
  {
   "cell_type": "code",
   "execution_count": null,
   "metadata": {},
   "outputs": [],
   "source": []
  }
 ],
 "metadata": {
  "kernelspec": {
   "display_name": "Python 3",
   "language": "python",
   "name": "python3"
  },
  "language_info": {
   "codemirror_mode": {
    "name": "ipython",
    "version": 3
   },
   "file_extension": ".py",
   "mimetype": "text/x-python",
   "name": "python",
   "nbconvert_exporter": "python",
   "pygments_lexer": "ipython3",
   "version": "3.7.4"
  }
 },
 "nbformat": 4,
 "nbformat_minor": 2
}
